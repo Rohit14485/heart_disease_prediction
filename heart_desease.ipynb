{
 "cells": [
  {
   "cell_type": "code",
   "execution_count": 92,
   "id": "b0aff57f-5b03-4917-abe2-5b98c357c215",
   "metadata": {},
   "outputs": [],
   "source": [
    "import numpy as np\n",
    "import pandas as pd\n",
    "from sklearn.model_selection import train_test_split\n",
    "from sklearn.model_selection import cross_val_score\n",
    "from sklearn.metrics import accuracy_score"
   ]
  },
  {
   "cell_type": "code",
   "execution_count": 107,
   "id": "78dfb2c7-3686-4d40-acdc-d69e43e921c0",
   "metadata": {},
   "outputs": [],
   "source": [
    "#importiong the dependencys\n",
    "\n",
    "from sklearn.linear_model import LogisticRegression\n",
    "from sklearn.svm import SVC\n",
    "from sklearn.neighbors import KNeighborsClassifier\n",
    "from sklearn.ensemble import RandomForestClassifier\n",
    "\n"
   ]
  },
  {
   "cell_type": "code",
   "execution_count": 108,
   "id": "6365221e-f45c-49d9-bd25-fbcc471ffa84",
   "metadata": {},
   "outputs": [],
   "source": [
    "#datacollection\n",
    "heart_data=pd.read_csv('heart.csv')"
   ]
  },
  {
   "cell_type": "code",
   "execution_count": 109,
   "id": "5059afdf-771e-42c0-b664-f348340b1fc6",
   "metadata": {},
   "outputs": [
    {
     "data": {
      "text/plain": [
       "<bound method NDFrame.head of      age  sex  cp  trestbps  chol  fbs  restecg  thalach  exang  oldpeak  \\\n",
       "0     52    1   0       125   212    0        1      168      0      1.0   \n",
       "1     53    1   0       140   203    1        0      155      1      3.1   \n",
       "2     70    1   0       145   174    0        1      125      1      2.6   \n",
       "3     61    1   0       148   203    0        1      161      0      0.0   \n",
       "4     62    0   0       138   294    1        1      106      0      1.9   \n",
       "..   ...  ...  ..       ...   ...  ...      ...      ...    ...      ...   \n",
       "519   61    1   0       148   203    0        1      161      0      0.0   \n",
       "520   59    1   0       140   177    0        1      162      1      0.0   \n",
       "521   58    1   1       125   220    0        1      144      0      0.4   \n",
       "522   67    0   2       152   277    0        1      172      0      0.0   \n",
       "523   61    1   0       148   203    0        1      161      0      0.0   \n",
       "\n",
       "     slope  ca  thal  target  \n",
       "0        2   2     3       0  \n",
       "1        0   0     3       0  \n",
       "2        0   0     3       0  \n",
       "3        2   1     3       0  \n",
       "4        1   3     2       0  \n",
       "..     ...  ..   ...     ...  \n",
       "519      2   1     3       0  \n",
       "520      2   1     3       0  \n",
       "521      1   4     3       1  \n",
       "522      2   1     2       1  \n",
       "523      2   1     3       0  \n",
       "\n",
       "[524 rows x 14 columns]>"
      ]
     },
     "execution_count": 109,
     "metadata": {},
     "output_type": "execute_result"
    }
   ],
   "source": [
    "heart_data.head"
   ]
  },
  {
   "cell_type": "code",
   "execution_count": 110,
   "id": "c46d0861-6ce8-4985-bc67-7d37fb4c03d0",
   "metadata": {},
   "outputs": [
    {
     "data": {
      "text/plain": [
       "(524, 14)"
      ]
     },
     "execution_count": 110,
     "metadata": {},
     "output_type": "execute_result"
    }
   ],
   "source": [
    "heart_data.shape"
   ]
  },
  {
   "cell_type": "code",
   "execution_count": 111,
   "id": "da6c0607-df51-490a-ad27-61493e20f350",
   "metadata": {},
   "outputs": [
    {
     "data": {
      "text/plain": [
       "age         0\n",
       "sex         0\n",
       "cp          0\n",
       "trestbps    0\n",
       "chol        0\n",
       "fbs         0\n",
       "restecg     0\n",
       "thalach     0\n",
       "exang       0\n",
       "oldpeak     0\n",
       "slope       0\n",
       "ca          0\n",
       "thal        0\n",
       "target      0\n",
       "dtype: int64"
      ]
     },
     "execution_count": 111,
     "metadata": {},
     "output_type": "execute_result"
    }
   ],
   "source": [
    "heart_data.isnull().sum()"
   ]
  },
  {
   "cell_type": "code",
   "execution_count": 112,
   "id": "185b1cbf-62f9-46da-9250-14f773f4abd9",
   "metadata": {},
   "outputs": [
    {
     "data": {
      "text/plain": [
       "1    277\n",
       "0    247\n",
       "Name: target, dtype: int64"
      ]
     },
     "execution_count": 112,
     "metadata": {},
     "output_type": "execute_result"
    }
   ],
   "source": [
    "heart_data['target'].value_counts()"
   ]
  },
  {
   "cell_type": "code",
   "execution_count": 113,
   "id": "1ae3183c-0021-4544-83b7-bf8c98828c19",
   "metadata": {},
   "outputs": [],
   "source": [
    "X=heart_data.drop(columns='target',axis=1)\n",
    "Y=heart_data['target']"
   ]
  },
  {
   "cell_type": "code",
   "execution_count": 114,
   "id": "10c74248-4a8f-4d7f-a364-3672db80b0f6",
   "metadata": {},
   "outputs": [
    {
     "name": "stdout",
     "output_type": "stream",
     "text": [
      "0      0\n",
      "1      0\n",
      "2      0\n",
      "3      0\n",
      "4      0\n",
      "      ..\n",
      "519    0\n",
      "520    0\n",
      "521    1\n",
      "522    1\n",
      "523    0\n",
      "Name: target, Length: 524, dtype: int64\n"
     ]
    }
   ],
   "source": [
    "print(Y)"
   ]
  },
  {
   "cell_type": "code",
   "execution_count": 115,
   "id": "c5b68e72-bd60-477e-a1d7-d34fe935b031",
   "metadata": {},
   "outputs": [],
   "source": [
    "#stratify me equal distribute hota he y ka test data me\n",
    "X_train,X_test,Y_train,Y_test=train_test_split(X,Y,test_size=0.2,stratify=Y,random_state=1)"
   ]
  },
  {
   "cell_type": "code",
   "execution_count": 116,
   "id": "2f1f3cee-61e7-4868-a188-1ce0311da200",
   "metadata": {},
   "outputs": [
    {
     "name": "stdout",
     "output_type": "stream",
     "text": [
      "(419, 13)\n"
     ]
    }
   ],
   "source": [
    "print(X_train.shape)"
   ]
  },
  {
   "cell_type": "code",
   "execution_count": 117,
   "id": "e10d3fa2-4534-411c-ad11-9ca1128da5c0",
   "metadata": {},
   "outputs": [],
   "source": [
    "#comparing the performance"
   ]
  },
  {
   "cell_type": "code",
   "execution_count": 118,
   "id": "f2f35ac2-c584-467f-93b7-f7b33ac01687",
   "metadata": {},
   "outputs": [],
   "source": [
    "models=[LogisticRegression(max_iter=1000),SVC(kernel='linear'),KNeighborsClassifier(),RandomForestClassifier()]"
   ]
  },
  {
   "cell_type": "code",
   "execution_count": 119,
   "id": "fe98b391-32b2-4147-bfd3-3d9620ffc075",
   "metadata": {},
   "outputs": [],
   "source": [
    "def compare_the_model():\n",
    "    for model in models:\n",
    "        model.fit(X_train,Y_train)\n",
    "        test_data_prediction=model.predict(X_test)\n",
    "        accuracy=accuracy_score(Y_test,test_data_prediction)\n",
    "        print('accuracy score is',model,' = ', accuracy)"
   ]
  },
  {
   "cell_type": "code",
   "execution_count": 120,
   "id": "4bd17873-5352-439e-acca-5542208fff49",
   "metadata": {},
   "outputs": [
    {
     "name": "stdout",
     "output_type": "stream",
     "text": [
      "accuracy score is LogisticRegression(max_iter=1000)  =  0.8761904761904762\n",
      "accuracy score is SVC(kernel='linear')  =  0.9142857142857143\n",
      "accuracy score is KNeighborsClassifier()  =  0.6476190476190476\n",
      "accuracy score is RandomForestClassifier()  =  0.9428571428571428\n"
     ]
    }
   ],
   "source": [
    "compare_the_model()"
   ]
  },
  {
   "cell_type": "code",
   "execution_count": 123,
   "id": "ea929e13-bad6-45b8-9bd2-fdf746e8871e",
   "metadata": {},
   "outputs": [],
   "source": [
    "#cross validation\n"
   ]
  },
  {
   "cell_type": "code",
   "execution_count": 127,
   "id": "8310b60e-eed8-4787-b478-c6ea799db7d6",
   "metadata": {},
   "outputs": [
    {
     "name": "stdout",
     "output_type": "stream",
     "text": [
      "[0.88571429 0.9047619  0.8952381  0.83809524 0.875     ]\n",
      "87.98\n"
     ]
    }
   ],
   "source": [
    "#cv mean no of itration\n",
    "cv_score=cross_val_score(LogisticRegression(max_iter=1000),X,Y,cv=5)\n",
    "print(cv_score)\n",
    "mean_accuracy_lr=sum(cv_score)/len(cv_score)\n",
    "mean_accuracy_lr=mean_accuracy_lr*100\n",
    "mean_accuracy_lr=round(mean_accuracy_lr,2)\n",
    "print(mean_accuracy_lr) "
   ]
  },
  {
   "cell_type": "code",
   "execution_count": 125,
   "id": "8bf726f9-76eb-468e-b6ed-1b2732de2888",
   "metadata": {},
   "outputs": [
    {
     "name": "stdout",
     "output_type": "stream",
     "text": [
      "[0.88571429 0.9047619  0.8952381  0.83809524 0.875     ]\n"
     ]
    }
   ],
   "source": []
  },
  {
   "cell_type": "code",
   "execution_count": null,
   "id": "ef7c446b-12ef-49c2-aae8-f8abd17c6523",
   "metadata": {},
   "outputs": [],
   "source": []
  }
 ],
 "metadata": {
  "kernelspec": {
   "display_name": "Python 3 (ipykernel)",
   "language": "python",
   "name": "python3"
  },
  "language_info": {
   "codemirror_mode": {
    "name": "ipython",
    "version": 3
   },
   "file_extension": ".py",
   "mimetype": "text/x-python",
   "name": "python",
   "nbconvert_exporter": "python",
   "pygments_lexer": "ipython3",
   "version": "3.9.13"
  }
 },
 "nbformat": 4,
 "nbformat_minor": 5
}
